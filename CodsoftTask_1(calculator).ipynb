{
 "cells": [
  {
   "cell_type": "code",
   "execution_count": 2,
   "id": "2f069f6a",
   "metadata": {},
   "outputs": [
    {
     "name": "stdout",
     "output_type": "stream",
     "text": [
      "welcome\n",
      "Please select any operation you want to perform.\n",
      "1.Add\n",
      "2.Subtract\n",
      "3.Multiply\n",
      "4.Divide\n",
      "Enter your choice from above: 1\n",
      "Enter first number: 3\n",
      "Enter second number: 4\n",
      "3 + 4 = 7\n",
      "Do you want to calculate again? ,please  type  YES or  NO.YES\n",
      "Enter your choice from above: 3\n",
      "Enter first number: 3\n",
      "Enter second number: 4\n",
      "3 * 4 = 12\n",
      "Do you want to calculate again? ,please  type  YES or  NO.NO\n",
      "See you later\n"
     ]
    }
   ],
   "source": [
    "#My Task1 (calculator)\n",
    "def add(x, y):\n",
    "    return x + y\n",
    "def subtract(x, y):\n",
    "    return x - y\n",
    "def multiply(x, y):\n",
    "    return x * y\n",
    "def divide(x, y):\n",
    "    return x / y\n",
    "def calculate():\n",
    "        choice = input(\"Enter your choice from above: \")\n",
    "        if choice in ('1', '2', '3', '4'):\n",
    "            try:\n",
    "                num1 = int(input(\"Enter first number: \"))\n",
    "                num2 = int(input(\"Enter second number: \"))\n",
    "            except ValueError:\n",
    "                print(\"Invalid input\")\n",
    "\n",
    "            if choice == '1':\n",
    "                print(num1, \"+\", num2, \"=\", add(num1, num2))\n",
    "\n",
    "            elif choice == '2':\n",
    "                print(num1, \"-\", num2, \"=\", subtract(num1, num2))\n",
    "\n",
    "            elif choice == '3':\n",
    "                print(num1, \"*\", num2, \"=\", multiply(num1, num2))\n",
    "\n",
    "            elif choice == '4':\n",
    "                print(num1, \"/\", num2, \"=\", divide(num1, num2))\n",
    "            again()\n",
    "        else:\n",
    "            print(\"inavlid input\")\n",
    "def again():\n",
    "    recalc= input('''Do you want to calculate again? ,please  type  YES or  NO.''')\n",
    "    if recalc == 'NO':\n",
    "        print(\"See you later\")\n",
    "    elif recalc == 'YES':\n",
    "        calculate()\n",
    "    else:\n",
    "        print(\"invalid input\")\n",
    "print(\"welcome\")\n",
    "print(\"Please select any operation you want to perform.\")\n",
    "print(\"1.Add\")\n",
    "print(\"2.Subtract\")\n",
    "print(\"3.Multiply\")\n",
    "print(\"4.Divide\")\n",
    "calculate()"
   ]
  },
  {
   "cell_type": "code",
   "execution_count": null,
   "id": "ee6580a5",
   "metadata": {},
   "outputs": [],
   "source": []
  }
 ],
 "metadata": {
  "kernelspec": {
   "display_name": "Python 3 (ipykernel)",
   "language": "python",
   "name": "python3"
  },
  "language_info": {
   "codemirror_mode": {
    "name": "ipython",
    "version": 3
   },
   "file_extension": ".py",
   "mimetype": "text/x-python",
   "name": "python",
   "nbconvert_exporter": "python",
   "pygments_lexer": "ipython3",
   "version": "3.9.7"
  }
 },
 "nbformat": 4,
 "nbformat_minor": 5
}
