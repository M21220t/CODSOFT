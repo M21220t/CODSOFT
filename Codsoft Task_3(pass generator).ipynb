{
 "cells": [
  {
   "cell_type": "code",
   "execution_count": 5,
   "id": "6b4ade68",
   "metadata": {},
   "outputs": [
    {
     "name": "stdout",
     "output_type": "stream",
     "text": [
      "Enter the desired length of the password: 4\n",
      "Generated Password:  YiA@\n"
     ]
    }
   ],
   "source": [
    "#My Task2 (Password Generater)\n",
    "import random\n",
    "import string\n",
    "\n",
    "def generate_password(length):\n",
    "    characters = string.ascii_letters + string.digits + string.punctuation\n",
    "    password = ''.join(random.choice(characters) for _ in range(length))\n",
    "    return password\n",
    "\n",
    "def main():\n",
    "    try:\n",
    "        password_length = int(input(\"Enter the desired length of the password: \"))\n",
    "        \n",
    "        if password_length <= 0:\n",
    "            print(\"Password length should be a positive integer.\")\n",
    "            return\n",
    "\n",
    "        password = generate_password(password_length)\n",
    "        print(\"Generated Password: \", password)\n",
    "    \n",
    "    except ValueError:\n",
    "        print(\"Please enter a valid integer for the password length.\")\n",
    "\n",
    "if __name__ == \"__main__\":\n",
    "    main()"
   ]
  },
  {
   "cell_type": "code",
   "execution_count": null,
   "id": "27edd818",
   "metadata": {},
   "outputs": [],
   "source": []
  }
 ],
 "metadata": {
  "kernelspec": {
   "display_name": "Python 3 (ipykernel)",
   "language": "python",
   "name": "python3"
  },
  "language_info": {
   "codemirror_mode": {
    "name": "ipython",
    "version": 3
   },
   "file_extension": ".py",
   "mimetype": "text/x-python",
   "name": "python",
   "nbconvert_exporter": "python",
   "pygments_lexer": "ipython3",
   "version": "3.9.7"
  }
 },
 "nbformat": 4,
 "nbformat_minor": 5
}
